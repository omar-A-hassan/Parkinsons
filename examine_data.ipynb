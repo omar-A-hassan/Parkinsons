{
 "cells": [
  {
   "cell_type": "code",
   "execution_count": 28,
   "id": "68e7c0a8",
   "metadata": {},
   "outputs": [],
   "source": [
    "import librosa\n",
    "import glob\n",
    "import numpy as np\n",
    "import pandas as pd\n",
    "import matplotlib.pyplot as plt"
   ]
  },
  {
   "cell_type": "code",
   "execution_count": 13,
   "id": "3a91eeea",
   "metadata": {},
   "outputs": [],
   "source": [
    "path = './data/zeinab/HC_AH/*.wav'\n",
    "audio_paths = glob.glob(path)"
   ]
  },
  {
   "cell_type": "markdown",
   "id": "dc12e189",
   "metadata": {},
   "source": [
    "## The two coming cells get the min, max and avg length of recordings in zeinab/HC_AH and PD_AH"
   ]
  },
  {
   "cell_type": "code",
   "execution_count": null,
   "id": "77d43e01",
   "metadata": {},
   "outputs": [],
   "source": [
    "durations = []\n",
    "# loop through audio files and append file duration to list\n",
    "for path in audio_paths:\n",
    "    try:\n",
    "        duration = librosa.get_duration(path=path)\n",
    "        durations.append(duration)\n",
    "        \n",
    "    except Exception as e:\n",
    "        print(f\"error processings {path}: {e}\")\n"
   ]
  },
  {
   "cell_type": "code",
   "execution_count": null,
   "id": "9c6b02a1",
   "metadata": {},
   "outputs": [
    {
     "name": "stdout",
     "output_type": "stream",
     "text": [
      "length of shortest recording: 1.62525\n",
      "length of longest recording: 5.763625\n",
      "average length of recordings: 3.0650274390243903\n"
     ]
    }
   ],
   "source": [
    "# Get minimum, maximuum and average duration in HC_AH (Healthy sounds)\n",
    "if durations:\n",
    "    minimum = np.min(durations)\n",
    "    maximum = np.max(durations)\n",
    "    average = np.mean(durations)\n",
    "\n",
    "    print(f\"length of shortest recording: {minimum}\")\n",
    "    print(f\"length of longest recording: {maximum}\")\n",
    "    print(f\"average length of recordings: {average}\")\n",
    "else:\n",
    "    print(f\"no files were processed\")"
   ]
  },
  {
   "cell_type": "code",
   "execution_count": 33,
   "id": "36e7e18a",
   "metadata": {},
   "outputs": [],
   "source": [
    "path = './data/zeinab/PD_AH/*.wav'\n",
    "audio_paths = glob.glob(path)"
   ]
  },
  {
   "cell_type": "code",
   "execution_count": 34,
   "id": "2f05e50d",
   "metadata": {},
   "outputs": [],
   "source": [
    "durations = []\n",
    "# loop through audio files and append file duration to list\n",
    "for path in audio_paths:\n",
    "    try:\n",
    "        duration = librosa.get_duration(path=path)\n",
    "        durations.append(duration)\n",
    "        \n",
    "    except Exception as e:\n",
    "        print(f\"error processings {path}: {e}\")"
   ]
  },
  {
   "cell_type": "code",
   "execution_count": null,
   "id": "b724edfc",
   "metadata": {},
   "outputs": [
    {
     "name": "stdout",
     "output_type": "stream",
     "text": [
      "length of shortest recording: 1.516125\n",
      "length of longest recording: 7.208\n",
      "average length of recordings: 3.5896249999999994\n"
     ]
    }
   ],
   "source": [
    "# Get minimum, maximuum and average duration PD_AH (Parkinson sounds)\n",
    "if durations:\n",
    "    minimum = np.min(durations)\n",
    "    maximum = np.max(durations)\n",
    "    average = np.mean(durations)\n",
    "\n",
    "    print(f\"length of shortest recording: {minimum}\")\n",
    "    print(f\"length of longest recording: {maximum}\")\n",
    "    print(f\"average length of recordings: {average}\")\n",
    "else:\n",
    "    print(f\"no files were processed\")"
   ]
  },
  {
   "cell_type": "markdown",
   "id": "fc30785b",
   "metadata": {},
   "source": [
    "## The coming cells examine the xlsx file"
   ]
  },
  {
   "cell_type": "code",
   "execution_count": 23,
   "id": "338c627e",
   "metadata": {},
   "outputs": [
    {
     "data": {
      "text/html": [
       "<div>\n",
       "<style scoped>\n",
       "    .dataframe tbody tr th:only-of-type {\n",
       "        vertical-align: middle;\n",
       "    }\n",
       "\n",
       "    .dataframe tbody tr th {\n",
       "        vertical-align: top;\n",
       "    }\n",
       "\n",
       "    .dataframe thead th {\n",
       "        text-align: right;\n",
       "    }\n",
       "</style>\n",
       "<table border=\"1\" class=\"dataframe\">\n",
       "  <thead>\n",
       "    <tr style=\"text-align: right;\">\n",
       "      <th></th>\n",
       "      <th>Sample ID</th>\n",
       "      <th>Label</th>\n",
       "      <th>Age</th>\n",
       "      <th>Sex</th>\n",
       "    </tr>\n",
       "  </thead>\n",
       "  <tbody>\n",
       "    <tr>\n",
       "      <th>0</th>\n",
       "      <td>AH_064F_7AB034C9-72E4-438B-A9B3-AD7FDA1596C5</td>\n",
       "      <td>HC</td>\n",
       "      <td>69.0</td>\n",
       "      <td>M</td>\n",
       "    </tr>\n",
       "    <tr>\n",
       "      <th>1</th>\n",
       "      <td>AH_114S_A89F3548-0B61-4770-B800-2E26AB3908B6</td>\n",
       "      <td>HC</td>\n",
       "      <td>43.0</td>\n",
       "      <td>M</td>\n",
       "    </tr>\n",
       "    <tr>\n",
       "      <th>2</th>\n",
       "      <td>AH_121A_BD5BA248-E807-4CB9-8B53-47E7FFE5F8E2</td>\n",
       "      <td>HC</td>\n",
       "      <td>18.0</td>\n",
       "      <td>F</td>\n",
       "    </tr>\n",
       "    <tr>\n",
       "      <th>3</th>\n",
       "      <td>AH_123G_559F0706-2238-447C-BA39-DB5933BA619D</td>\n",
       "      <td>HC</td>\n",
       "      <td>28.0</td>\n",
       "      <td>M</td>\n",
       "    </tr>\n",
       "    <tr>\n",
       "      <th>4</th>\n",
       "      <td>AH_195B_39DA6A45-F4CC-492A-80D4-FB79049ACC22</td>\n",
       "      <td>HC</td>\n",
       "      <td>68.0</td>\n",
       "      <td>M</td>\n",
       "    </tr>\n",
       "    <tr>\n",
       "      <th>5</th>\n",
       "      <td>AH_197T_7552379A-2310-46E1-9466-9D8045C990B8</td>\n",
       "      <td>HC</td>\n",
       "      <td>24.0</td>\n",
       "      <td>M</td>\n",
       "    </tr>\n",
       "    <tr>\n",
       "      <th>6</th>\n",
       "      <td>AH_222K_FC9D2763-1836-460B-954F-37F23D6CD81D</td>\n",
       "      <td>HC</td>\n",
       "      <td>78.0</td>\n",
       "      <td>M</td>\n",
       "    </tr>\n",
       "    <tr>\n",
       "      <th>7</th>\n",
       "      <td>AH_264Z_593C20CD-0A54-4177-B031-26EE147080A3</td>\n",
       "      <td>HC</td>\n",
       "      <td>72.0</td>\n",
       "      <td>F</td>\n",
       "    </tr>\n",
       "    <tr>\n",
       "      <th>8</th>\n",
       "      <td>AH_292J_201CB911-31C1-4CD0-BD73-4FBA4A16C21F</td>\n",
       "      <td>HC</td>\n",
       "      <td>57.0</td>\n",
       "      <td>F</td>\n",
       "    </tr>\n",
       "    <tr>\n",
       "      <th>9</th>\n",
       "      <td>AH_322A_C3BF5535-A11E-498E-94EB-BE7E74099FFB</td>\n",
       "      <td>HC</td>\n",
       "      <td>44.0</td>\n",
       "      <td>M</td>\n",
       "    </tr>\n",
       "  </tbody>\n",
       "</table>\n",
       "</div>"
      ],
      "text/plain": [
       "                                      Sample ID Label   Age Sex\n",
       "0  AH_064F_7AB034C9-72E4-438B-A9B3-AD7FDA1596C5    HC  69.0   M\n",
       "1  AH_114S_A89F3548-0B61-4770-B800-2E26AB3908B6    HC  43.0   M\n",
       "2  AH_121A_BD5BA248-E807-4CB9-8B53-47E7FFE5F8E2    HC  18.0   F\n",
       "3  AH_123G_559F0706-2238-447C-BA39-DB5933BA619D    HC  28.0   M\n",
       "4  AH_195B_39DA6A45-F4CC-492A-80D4-FB79049ACC22    HC  68.0   M\n",
       "5  AH_197T_7552379A-2310-46E1-9466-9D8045C990B8    HC  24.0   M\n",
       "6  AH_222K_FC9D2763-1836-460B-954F-37F23D6CD81D    HC  78.0   M\n",
       "7  AH_264Z_593C20CD-0A54-4177-B031-26EE147080A3    HC  72.0   F\n",
       "8  AH_292J_201CB911-31C1-4CD0-BD73-4FBA4A16C21F    HC  57.0   F\n",
       "9  AH_322A_C3BF5535-A11E-498E-94EB-BE7E74099FFB    HC  44.0   M"
      ]
     },
     "execution_count": 23,
     "metadata": {},
     "output_type": "execute_result"
    }
   ],
   "source": [
    "meta_data = pd.read_excel('data/zeinab/Demographics_age_sex.xlsx')\n",
    "meta_data.head(10)"
   ]
  },
  {
   "cell_type": "code",
   "execution_count": null,
   "id": "951339f9",
   "metadata": {},
   "outputs": [
    {
     "name": "stdout",
     "output_type": "stream",
     "text": [
      "Age data:\n",
      "count    81.000000\n",
      "mean     57.264198\n",
      "std      15.371786\n",
      "min      18.000000\n",
      "25%      44.000000\n",
      "50%      58.140000\n",
      "75%      69.450000\n",
      "max      85.310000\n",
      "Name: Age, dtype: float64\n"
     ]
    }
   ],
   "source": [
    "# Descriptives of the Age column\n",
    "print(\"Age data:\")\n",
    "print(meta_data['Age'].describe())"
   ]
  },
  {
   "cell_type": "code",
   "execution_count": null,
   "id": "d9841237",
   "metadata": {},
   "outputs": [
    {
     "data": {
      "image/png": "[encoded data removed]",
      "text/plain": [
       "<Figure size 640x480 with 1 Axes>"
      ]
     },
     "metadata": {},
     "output_type": "display_data"
    }
   ],
   "source": [
    "# Age distribution\n",
    "meta_data['Age'].plot(kind='hist', bins=20, title='Age Distribution')\n",
    "plt.xlabel('Age')\n",
    "plt.show()"
   ]
  },
  {
   "cell_type": "code",
   "execution_count": null,
   "id": "3262aa17",
   "metadata": {},
   "outputs": [
    {
     "name": "stdout",
     "output_type": "stream",
     "text": [
      "Label\n",
      "HC      41\n",
      "PwPD    40\n",
      "Name: count, dtype: int64\n"
     ]
    }
   ],
   "source": [
    "# Count of Healthy vs Parkinson labels/classes (Target)\n",
    "class_distribution= meta_data['Label'].value_counts().sort_values(ascending=False)\n",
    "print(class_distribution)"
   ]
  },
  {
   "cell_type": "code",
   "execution_count": null,
   "id": "f8ea4de8",
   "metadata": {},
   "outputs": [
    {
     "data": {
      "image/png": "[encoded data removed]",
      "text/plain": [
       "<Figure size 1000x600 with 1 Axes>"
      ]
     },
     "metadata": {},
     "output_type": "display_data"
    }
   ],
   "source": [
    "# Target distribution\n",
    "plt.figure(figsize=(10,6))\n",
    "class_distribution.plot(kind='bar', color='teal', edgecolor='black')\n",
    "plt.title(\"Class Distribution of healthy and unhealthy\")\n",
    "plt.xlabel(\"Class Label\")\n",
    "plt.ylabel(\"Count\")\n",
    "plt.xticks(rotation=0)\n",
    "plt.show()\n"
   ]
  },
  {
   "cell_type": "code",
   "execution_count": null,
   "id": "87cd9442",
   "metadata": {},
   "outputs": [
    {
     "name": "stdout",
     "output_type": "stream",
     "text": [
      "Sex\n",
      "F    44\n",
      "M    37\n",
      "Name: count, dtype: int64\n"
     ]
    }
   ],
   "source": [
    "# Distribution of gender\n",
    "gender_distribution = meta_data['Sex'].value_counts().sort_values(ascending=False)\n",
    "print(gender_distribution)"
   ]
  },
  {
   "cell_type": "code",
   "execution_count": 43,
   "id": "fb262699",
   "metadata": {},
   "outputs": [
    {
     "data": {
      "image/png": "[encoded data removed]",
      "text/plain": [
       "<Figure size 1000x600 with 1 Axes>"
      ]
     },
     "metadata": {},
     "output_type": "display_data"
    }
   ],
   "source": [
    "plt.figure(figsize=(10,6))\n",
    "gender_distribution.plot(kind='bar', color='teal', edgecolor='black')\n",
    "plt.title(\"Distribution of male and female\")\n",
    "plt.xlabel(\"Sex\")\n",
    "plt.ylabel(\"Count\")\n",
    "plt.xticks(rotation=0)\n",
    "plt.show()\n"
   ]
  },
  {
   "cell_type": "code",
   "execution_count": 54,
   "id": "f730b1ca",
   "metadata": {},
   "outputs": [
    {
     "data": {
      "text/plain": [
       "<Figure size 1000x600 with 0 Axes>"
      ]
     },
     "metadata": {},
     "output_type": "display_data"
    },
    {
     "data": {
      "image/png": "[encoded data removed]",
      "text/plain": [
       "<Figure size 640x480 with 1 Axes>"
      ]
     },
     "metadata": {},
     "output_type": "display_data"
    }
   ],
   "source": [
    "plt.figure(figsize=(10, 6))\n",
    "meta_data.boxplot(column='Age', by='Label')\n",
    "plt.title('Age Distribution by Health Status')\n",
    "plt.xlabel('Label')\n",
    "plt.ylabel('Age')\n",
    "plt.show()"
   ]
  },
  {
   "cell_type": "code",
   "execution_count": 57,
   "id": "fccd70a4",
   "metadata": {},
   "outputs": [
    {
     "name": "stdout",
     "output_type": "stream",
     "text": [
      "Correlation between age and health status: 0.632\n"
     ]
    }
   ],
   "source": [
    "from sklearn.preprocessing import LabelEncoder\n",
    "le = LabelEncoder()\n",
    "meta_data_encoded = meta_data.copy()\n",
    "meta_data_encoded['Label_numeric'] = le.fit_transform(meta_data['Label'])\n",
    "correlation = meta_data_encoded['Age'].corr(meta_data_encoded['Label_numeric'])\n",
    "print(f\"Correlation between age and health status: {correlation:.3f}\")"
   ]
  },
  {
   "cell_type": "markdown",
   "id": "4e15605d",
   "metadata": {},
   "source": [
    "## Dataset Overview:\n",
    "  - 81 total samples with demographics data\n",
    "  - Labels: \"HC\" (Healthy Controls, 41 samples) and \"PwPD\" (People with Parkinson's Disease, 40 samples)\n",
    "  - Age range: 18-85.3 years (mean: 57.3 years)\n",
    "  - Gender: 44 females, 37 males\n",
    "\n",
    "  Audio Data:\n",
    "  - Healthy Controls (HC_AH): recordings 1.6-5.8 seconds (avg: 3.1s)\n",
    "  - Parkinson's patients (PD_AH): recordings 1.5-7.2 seconds (avg: 3.6s)\n",
    "\n",
    "  Key Finding:\n",
    "  The correlation between age and health status is 0.632 - a moderately strong positive correlation, indicating that older individuals are more likely to\n",
    "  have Parkinson's disease in this dataset.\n",
    "\n",
    "  The boxplot visualization shows that Parkinson's patients tend to be older than healthy controls, which aligns with the known epidemiology of Parkinson's\n",
    "  disease being more common in older adults."
   ]
  }
 ],
 "metadata": {
  "kernelspec": {
   "display_name": "hs",
   "language": "python",
   "name": "python3"
  },
  "language_info": {
   "codemirror_mode": {
    "name": "ipython",
    "version": 3
   },
   "file_extension": ".py",
   "mimetype": "text/x-python",
   "name": "python",
   "nbconvert_exporter": "python",
   "pygments_lexer": "ipython3",
   "version": "3.9.23"
  }
 },
 "nbformat": 4,
 "nbformat_minor": 5
}
